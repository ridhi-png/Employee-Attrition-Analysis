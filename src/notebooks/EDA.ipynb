{
 "cells": [
  {
   "cell_type": "markdown",
   "metadata": {},
   "source": [
    "# Employee Attrition EDA\n",
    "This notebook performs exploratory data analysis (EDA) on the Employee Attrition dataset.\n",
    "It includes distribution plots, correlation heatmaps, and pairplots.\n",
    "\n",
    "**Note:** This notebook includes installation commands to ensure required libraries are available."
   ]
  },
  {
   "cell_type": "code",
   "metadata": {},
   "source": [
    "# Install required libraries (if not installed)\n",
    "!pip install pandas matplotlib seaborn --quiet"
   ]
  },
  {
   "cell_type": "code",
   "metadata": {},
   "source": [
    "import pandas as pd\n",
    "import matplotlib.pyplot as plt\n",
    "import seaborn as sns\n",
    "import os\n",
    "\n",
    "# Ensure screenshots directory exists\n",
    "os.makedirs('../screenshots', exist_ok=True)\n",
    "\n",
    "# Load data\n",
    "df = pd.read_csv('../data/employee_attrition.csv')\n",
    "df.head()"
   ]
  },
  {
   "cell_type": "markdown",
   "metadata": {},
   "source": [
    "## Attrition Distribution"
   ]
  },
  {
   "cell_type": "code",
   "metadata": {},
   "source": [
    "plt.figure(figsize=(6,4))\n",
    "sns.countplot(x='Attrition', data=df)\n",
    "plt.title('Attrition Count')\n",
    "plt.savefig('../screenshots/attrition_count.png')\n",
    "plt.show()"
   ]
  },
  {
   "cell_type": "markdown",
   "metadata": {},
   "source": [
    "## Correlation Heatmap"
   ]
  },
  {
   "cell_type": "code",
   "metadata": {},
   "source": [
    "plt.figure(figsize=(12,10))\n",
    "numeric_cols = ['Age','DistanceFromHome','MonthlyIncome','NumCompaniesWorked',\n",
    "                'TotalWorkingYears','TrainingTimesLastYear','YearsAtCompany',\n",
    "                'YearsInCurrentRole','YearsSinceLastPromotion','YearsWithCurrManager']\n",
    "cor = df[numeric_cols + ['Attrition']].corr()\n",
    "sns.heatmap(cor, annot=True, cmap='coolwarm')\n",
    "plt.title('Correlation Heatmap')\n",
    "plt.savefig('../screenshots/correlation_heatmap.png')\n",
    "plt.show()"
   ]
  },
  {
   "cell_type": "markdown",
   "metadata": {},
   "source": [
    "## Pairplot"
   ]
  },
  {
   "cell_type": "code",
   "metadata": {},
   "source": [
    "g = sns.pairplot(df, hue='Attrition', vars=['Age','MonthlyIncome','TotalWorkingYears','YearsAtCompany'])\n",
    "g.fig.savefig('../screenshots/pairplot.png')\n",
    "plt.close()"
   ]
  }
 ],
 "metadata": {
  "kernelspec": {
   "display_name": "Python 3",
   "language": "python",
   "name": "python3"
  },
  "language_info": {
   "name": "python",
   "version": "3.11"
  }
 },
 "nbformat": 4,
 "nbformat_minor": 5
}

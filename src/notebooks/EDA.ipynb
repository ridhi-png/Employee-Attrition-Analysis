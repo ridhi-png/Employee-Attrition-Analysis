import pandas as pd
import matplotlib.pyplot as plt
import seaborn as sns

# Load data
df = pd.read_csv('"C:\Users\ridhi\Age,DistanceFromHome,Department,Edu.csv"')

# Attrition distribution
plt.figure(figsize=(6,4))
sns.countplot(x='Attrition', data=df)
plt.title('Attrition Count')
plt.savefig('../screenshots/attrition_count.png')
plt.show()

# Correlation heatmap
plt.figure(figsize=(12,10))
numeric_cols = ['Age','DistanceFromHome','MonthlyIncome','NumCompaniesWorked',
                'TotalWorkingYears','TrainingTimesLastYear','YearsAtCompany',
                'YearsInCurrentRole','YearsSinceLastPromotion','YearsWithCurrManager']
cor = df[numeric_cols + ['Attrition']].corr()
sns.heatmap(cor, annot=True, cmap='coolwarm')
plt.title('Correlation Heatmap')
plt.savefig('../screenshots/correlation_heatmap.png')
plt.show()

# Pairplot
g = sns.pairplot(df, hue='Attrition', vars=['Age','MonthlyIncome','TotalWorkingYears','YearsAtCompany'])
g.fig.savefig('../screenshots/pairplot.png')
plt.close()
